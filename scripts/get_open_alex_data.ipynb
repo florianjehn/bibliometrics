{
 "cells": [
  {
   "cell_type": "code",
   "execution_count": 1,
   "metadata": {},
   "outputs": [],
   "source": [
    "import os\n",
    "import pandas as pd\n",
    "import json\n",
    "# go up one directory\n",
    "os.chdir(\"..\")"
   ]
  },
  {
   "cell_type": "code",
   "execution_count": 2,
   "metadata": {},
   "outputs": [
    {
     "ename": "FileNotFoundError",
     "evalue": "[Errno 2] No such file or directory: 'data/test.json'",
     "output_type": "error",
     "traceback": [
      "\u001b[0;31m---------------------------------------------------------------------------\u001b[0m",
      "\u001b[0;31mFileNotFoundError\u001b[0m                         Traceback (most recent call last)",
      "Cell \u001b[0;32mIn[2], line 1\u001b[0m\n\u001b[0;32m----> 1\u001b[0m \u001b[38;5;28;01mwith\u001b[39;00m \u001b[38;5;28;43mopen\u001b[39;49m\u001b[43m(\u001b[49m\u001b[38;5;124;43m'\u001b[39;49m\u001b[38;5;124;43mdata/test.json\u001b[39;49m\u001b[38;5;124;43m'\u001b[39;49m\u001b[43m,\u001b[49m\u001b[43m \u001b[49m\u001b[38;5;124;43m'\u001b[39;49m\u001b[38;5;124;43mrb\u001b[39;49m\u001b[38;5;124;43m'\u001b[39;49m\u001b[43m)\u001b[49m \u001b[38;5;28;01mas\u001b[39;00m f:  \u001b[38;5;66;03m# Open in binary mode\u001b[39;00m\n\u001b[1;32m      2\u001b[0m     data_bytes \u001b[38;5;241m=\u001b[39m f\u001b[38;5;241m.\u001b[39mread()\n\u001b[1;32m      4\u001b[0m \u001b[38;5;66;03m# Decode the bytes using utf-8-sig to handle potential BOM\u001b[39;00m\n",
      "File \u001b[0;32m~/local/anaconda3/envs/bibliometrics/lib/python3.12/site-packages/IPython/core/interactiveshell.py:324\u001b[0m, in \u001b[0;36m_modified_open\u001b[0;34m(file, *args, **kwargs)\u001b[0m\n\u001b[1;32m    317\u001b[0m \u001b[38;5;28;01mif\u001b[39;00m file \u001b[38;5;129;01min\u001b[39;00m {\u001b[38;5;241m0\u001b[39m, \u001b[38;5;241m1\u001b[39m, \u001b[38;5;241m2\u001b[39m}:\n\u001b[1;32m    318\u001b[0m     \u001b[38;5;28;01mraise\u001b[39;00m \u001b[38;5;167;01mValueError\u001b[39;00m(\n\u001b[1;32m    319\u001b[0m         \u001b[38;5;124mf\u001b[39m\u001b[38;5;124m\"\u001b[39m\u001b[38;5;124mIPython won\u001b[39m\u001b[38;5;124m'\u001b[39m\u001b[38;5;124mt let you open fd=\u001b[39m\u001b[38;5;132;01m{\u001b[39;00mfile\u001b[38;5;132;01m}\u001b[39;00m\u001b[38;5;124m by default \u001b[39m\u001b[38;5;124m\"\u001b[39m\n\u001b[1;32m    320\u001b[0m         \u001b[38;5;124m\"\u001b[39m\u001b[38;5;124mas it is likely to crash IPython. If you know what you are doing, \u001b[39m\u001b[38;5;124m\"\u001b[39m\n\u001b[1;32m    321\u001b[0m         \u001b[38;5;124m\"\u001b[39m\u001b[38;5;124myou can use builtins\u001b[39m\u001b[38;5;124m'\u001b[39m\u001b[38;5;124m open.\u001b[39m\u001b[38;5;124m\"\u001b[39m\n\u001b[1;32m    322\u001b[0m     )\n\u001b[0;32m--> 324\u001b[0m \u001b[38;5;28;01mreturn\u001b[39;00m \u001b[43mio_open\u001b[49m\u001b[43m(\u001b[49m\u001b[43mfile\u001b[49m\u001b[43m,\u001b[49m\u001b[43m \u001b[49m\u001b[38;5;241;43m*\u001b[39;49m\u001b[43margs\u001b[49m\u001b[43m,\u001b[49m\u001b[43m \u001b[49m\u001b[38;5;241;43m*\u001b[39;49m\u001b[38;5;241;43m*\u001b[39;49m\u001b[43mkwargs\u001b[49m\u001b[43m)\u001b[49m\n",
      "\u001b[0;31mFileNotFoundError\u001b[0m: [Errno 2] No such file or directory: 'data/test.json'"
     ]
    }
   ],
   "source": [
    "with open('data/test.json', 'rb') as f:  # Open in binary mode\n",
    "    data_bytes = f.read()\n",
    "\n",
    "# Decode the bytes using utf-8-sig to handle potential BOM\n",
    "data = json.loads(data_bytes.decode('utf-8-sig'))\n",
    "\n",
    "# Extract items from the network key\n",
    "items = data['network']['items']\n",
    "\n",
    "# Define an empty list to store dictionaries for the dataframe\n",
    "df_data = []\n",
    "\n",
    "# Loop through each item in the 'items' list\n",
    "for item in items:\n",
    "    # Extract relevant information from each item\n",
    "    vos_id = item['id']\n",
    "    authors = [i.title() for i in item['description'].split('Title:')[0].replace(\"<td>\", \"\").replace(\"</td>\", \"\").replace(\"<tr>\", \"\").replace(\"</tr>\", \"\").replace(\"<table>\", \"\").replace(\"</table>\", \"\").replace(\"Authors:\", \"\").strip().split(\";\")]\n",
    "    title = item['description'].split('Title:')[1].split('</tr>')[0].strip().replace(\"</td>\", \"\").replace(\"<td>\", \"\").strip().title()\n",
    "    year = int(item['scores']['Pub. year'])\n",
    "    citations = int(item['scores']['Citations'])\n",
    "    source = item['description'].split('Source:')[1].split('year')[0].split(\",\")[0].split(\">\")[-1].strip().capitalize()\n",
    "    cluster = item['cluster']\n",
    "\n",
    "    weights = dict(item['weights'])\n",
    "    for key, value in weights.items():\n",
    "        weights[key] = float(value)\n",
    "\n",
    "    # Create a dictionary for each item\n",
    "    item_dict = {\n",
    "        'VOS_ID': vos_id,\n",
    "        'Authors': authors,\n",
    "        'Title': title,\n",
    "        'Year': year,\n",
    "        'Citations': citations,\n",
    "        'Source': source,\n",
    "        'Cluster': cluster\n",
    "\n",
    "    }\n",
    "\n",
    "    # Add the weights to the dictionary\n",
    "    item_dict.update(weights)\n",
    "\n",
    "    # Append the dictionary to the list\n",
    "    df_data.append(item_dict)\n",
    "\n",
    "# Create the pandas dataframe from the list of dictionaries\n",
    "df = pd.DataFrame(df_data)\n",
    "\n",
    "# Print the dataframe\n",
    "df.head()\n"
   ]
  }
 ],
 "metadata": {
  "kernelspec": {
   "display_name": "bibliometrics",
   "language": "python",
   "name": "python3"
  },
  "language_info": {
   "codemirror_mode": {
    "name": "ipython",
    "version": 3
   },
   "file_extension": ".py",
   "mimetype": "text/x-python",
   "name": "python",
   "nbconvert_exporter": "python",
   "pygments_lexer": "ipython3",
   "version": "3.12.2"
  }
 },
 "nbformat": 4,
 "nbformat_minor": 2
}
