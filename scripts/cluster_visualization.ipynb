{
 "cells": [
  {
   "cell_type": "code",
   "execution_count": 1,
   "metadata": {},
   "outputs": [],
   "source": [
    "import pandas as pd\n",
    "import ast\n",
    "import networkx as nx\n",
    "import os\n",
    "import matplotlib.pyplot as plt\n",
    "# go one up\n",
    "os.chdir(\"..\")\n",
    "plt.style.use(\"https://raw.githubusercontent.com/allfed/ALLFED-matplotlib-style-sheet/main/ALLFED.mplstyle\")"
   ]
  },
  {
   "cell_type": "code",
   "execution_count": 2,
   "metadata": {},
   "outputs": [
    {
     "data": {
      "text/html": [
       "<div>\n",
       "<style scoped>\n",
       "    .dataframe tbody tr th:only-of-type {\n",
       "        vertical-align: middle;\n",
       "    }\n",
       "\n",
       "    .dataframe tbody tr th {\n",
       "        vertical-align: top;\n",
       "    }\n",
       "\n",
       "    .dataframe thead th {\n",
       "        text-align: right;\n",
       "    }\n",
       "</style>\n",
       "<table border=\"1\" class=\"dataframe\">\n",
       "  <thead>\n",
       "    <tr style=\"text-align: right;\">\n",
       "      <th></th>\n",
       "      <th>VOS_ID</th>\n",
       "      <th>Authors</th>\n",
       "      <th>Title</th>\n",
       "      <th>Year</th>\n",
       "      <th>Citations</th>\n",
       "      <th>Source</th>\n",
       "      <th>Cluster</th>\n",
       "      <th>Links</th>\n",
       "      <th>Total link strength</th>\n",
       "      <th>Norm. citations</th>\n",
       "    </tr>\n",
       "  </thead>\n",
       "  <tbody>\n",
       "    <tr>\n",
       "      <th>0</th>\n",
       "      <td>2</td>\n",
       "      <td>['Nick Bostrom']</td>\n",
       "      <td>Existential Risk Prevention As Global Priority</td>\n",
       "      <td>2013</td>\n",
       "      <td>387.0</td>\n",
       "      <td>Global policy</td>\n",
       "      <td>3</td>\n",
       "      <td>303.0</td>\n",
       "      <td>33.0</td>\n",
       "      <td>11.8575</td>\n",
       "    </tr>\n",
       "    <tr>\n",
       "      <th>1</th>\n",
       "      <td>3</td>\n",
       "      <td>['Nick Bostrom']</td>\n",
       "      <td>Existential Risks: Analyzing Human Extinction ...</td>\n",
       "      <td>2002</td>\n",
       "      <td>176.0</td>\n",
       "      <td>[no source]</td>\n",
       "      <td>3</td>\n",
       "      <td>61.0</td>\n",
       "      <td>24.0</td>\n",
       "      <td>3.7625</td>\n",
       "    </tr>\n",
       "    <tr>\n",
       "      <th>2</th>\n",
       "      <td>4</td>\n",
       "      <td>['Shahar Avin', ' Bonnie C. Wintle', ' Julius ...</td>\n",
       "      <td>Classifying Global Catastrophic Risks</td>\n",
       "      <td>2018</td>\n",
       "      <td>68.0</td>\n",
       "      <td>Futures</td>\n",
       "      <td>3</td>\n",
       "      <td>226.0</td>\n",
       "      <td>13.0</td>\n",
       "      <td>4.6723</td>\n",
       "    </tr>\n",
       "    <tr>\n",
       "      <th>3</th>\n",
       "      <td>7</td>\n",
       "      <td>['Simon Beard', ' Lauren Holt', ' Asaf Tzachor...</td>\n",
       "      <td>Assessing Climate Change’S Contribution To Glo...</td>\n",
       "      <td>2021</td>\n",
       "      <td>41.0</td>\n",
       "      <td>Futures</td>\n",
       "      <td>3</td>\n",
       "      <td>287.0</td>\n",
       "      <td>56.0</td>\n",
       "      <td>5.3588</td>\n",
       "    </tr>\n",
       "    <tr>\n",
       "      <th>4</th>\n",
       "      <td>8</td>\n",
       "      <td>['Alexey Turchin', ' David Denkenberger']</td>\n",
       "      <td>Classification Of Global Catastrophic Risks Co...</td>\n",
       "      <td>2018</td>\n",
       "      <td>53.0</td>\n",
       "      <td>Ai &amp; society</td>\n",
       "      <td>1</td>\n",
       "      <td>208.0</td>\n",
       "      <td>22.0</td>\n",
       "      <td>3.6416</td>\n",
       "    </tr>\n",
       "  </tbody>\n",
       "</table>\n",
       "</div>"
      ],
      "text/plain": [
       "   VOS_ID                                            Authors  \\\n",
       "0       2                                   ['Nick Bostrom']   \n",
       "1       3                                   ['Nick Bostrom']   \n",
       "2       4  ['Shahar Avin', ' Bonnie C. Wintle', ' Julius ...   \n",
       "3       7  ['Simon Beard', ' Lauren Holt', ' Asaf Tzachor...   \n",
       "4       8          ['Alexey Turchin', ' David Denkenberger']   \n",
       "\n",
       "                                               Title  Year  Citations  \\\n",
       "0     Existential Risk Prevention As Global Priority  2013      387.0   \n",
       "1  Existential Risks: Analyzing Human Extinction ...  2002      176.0   \n",
       "2              Classifying Global Catastrophic Risks  2018       68.0   \n",
       "3  Assessing Climate Change’S Contribution To Glo...  2021       41.0   \n",
       "4  Classification Of Global Catastrophic Risks Co...  2018       53.0   \n",
       "\n",
       "          Source  Cluster  Links  Total link strength  Norm. citations  \n",
       "0  Global policy        3  303.0                 33.0          11.8575  \n",
       "1    [no source]        3   61.0                 24.0           3.7625  \n",
       "2        Futures        3  226.0                 13.0           4.6723  \n",
       "3        Futures        3  287.0                 56.0           5.3588  \n",
       "4   Ai & society        1  208.0                 22.0           3.6416  "
      ]
     },
     "execution_count": 2,
     "metadata": {},
     "output_type": "execute_result"
    }
   ],
   "source": [
    "main_color = \"#5b3d91\"\n",
    "vos_meta = pd.read_csv(f'data{os.sep}prepared{os.sep}vos_meta.csv')\n",
    "vos_meta.head()"
   ]
  },
  {
   "cell_type": "code",
   "execution_count": 3,
   "metadata": {},
   "outputs": [
    {
     "name": "stdout",
     "output_type": "stream",
     "text": [
      "Removed 406 papers from unrelated clusters\n"
     ]
    }
   ],
   "source": [
    "# Remove the unrelated clusters\n",
    "num_papers_before = vos_meta.shape[0]\n",
    "other_topic_clusters = [6, 7, 8, 12, 14, 15, 18, 19, 22, 23, 24, 25]\n",
    "vos_meta = vos_meta[~vos_meta[\"Cluster\"].isin(other_topic_clusters)]\n",
    "num_papers_after = vos_meta.shape[0]\n",
    "print(f\"Removed {num_papers_before - num_papers_after} papers from unrelated clusters\")"
   ]
  },
  {
   "cell_type": "code",
   "execution_count": 12,
   "metadata": {},
   "outputs": [
    {
     "data": {
      "text/plain": [
       "{1: {'num_papers': 329, 'num_authors': 600},\n",
       " 2: {'num_papers': 226, 'num_authors': 636},\n",
       " 3: {'num_papers': 221, 'num_authors': 365},\n",
       " 4: {'num_papers': 140, 'num_authors': 273},\n",
       " 5: {'num_papers': 106, 'num_authors': 327},\n",
       " 9: {'num_papers': 67, 'num_authors': 83},\n",
       " 10: {'num_papers': 50, 'num_authors': 91},\n",
       " 11: {'num_papers': 48, 'num_authors': 94},\n",
       " 13: {'num_papers': 39, 'num_authors': 60},\n",
       " 16: {'num_papers': 27, 'num_authors': 43},\n",
       " 17: {'num_papers': 22, 'num_authors': 84},\n",
       " 20: {'num_papers': 12, 'num_authors': 15},\n",
       " 21: {'num_papers': 10, 'num_authors': 18}}"
      ]
     },
     "execution_count": 12,
     "metadata": {},
     "output_type": "execute_result"
    }
   ],
   "source": [
    "nums = {}\n",
    "for cluster_name, cluster in vos_meta.groupby(\"Cluster\"):\n",
    "    num_papers = cluster.shape[0]\n",
    "    authors = cluster[\"Authors\"].apply(ast.literal_eval)\n",
    "    # Create a list of all the authors\n",
    "    all_authors = [author for authors_list in authors for author in authors_list]\n",
    "    # Remove the trailing whitespace from the authors\n",
    "    all_authors = [author.strip() for author in all_authors]\n",
    "    # Count how often each author appears\n",
    "    author_counts = len(set(all_authors))\n",
    "    nums[cluster_name] = {\"num_papers\": num_papers, \"num_authors\": author_counts}\n",
    "nums"
   ]
  },
  {
   "cell_type": "code",
   "execution_count": 14,
   "metadata": {},
   "outputs": [
    {
     "data": {
      "text/plain": [
       "Text(0, 0.5, 'Average number of authors per paper')"
      ]
     },
     "execution_count": 14,
     "metadata": {},
     "output_type": "execute_result"
    },
    {
     "data": {
      "image/png": "[encoded data removed]",
      "text/plain": [
       "<Figure size 1500x600 with 1 Axes>"
      ]
     },
     "metadata": {},
     "output_type": "display_data"
    }
   ],
   "source": [
    "# Plot the average number of authors per paper\n",
    "df = pd.DataFrame(nums).T\n",
    "df[\"avg_authors\"] = df[\"num_authors\"] / df[\"num_papers\"]\n",
    "df[\"avg_authors\"].plot(kind=\"bar\", color=main_color)\n",
    "plt.xlabel(\"Cluster\")\n",
    "plt.ylabel(\"Average number of authors per paper\")\n"
   ]
  }
 ],
 "metadata": {
  "kernelspec": {
   "display_name": "bibliometrics",
   "language": "python",
   "name": "python3"
  },
  "language_info": {
   "codemirror_mode": {
    "name": "ipython",
    "version": 3
   },
   "file_extension": ".py",
   "mimetype": "text/x-python",
   "name": "python",
   "nbconvert_exporter": "python",
   "pygments_lexer": "ipython3",
   "version": "3.12.1"
  }
 },
 "nbformat": 4,
 "nbformat_minor": 2
}
